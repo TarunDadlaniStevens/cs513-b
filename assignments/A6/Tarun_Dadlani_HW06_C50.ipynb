{
 "cells": [
  {
   "cell_type": "markdown",
   "metadata": {},
   "source": [
    "### Name: Tarun Dadlani\n",
    "### CWID: 20010209\n",
    "### Class: CS513-B"
   ]
  },
  {
   "cell_type": "code",
   "execution_count": 81,
   "metadata": {},
   "outputs": [],
   "source": [
    "import matplotlib.pyplot as plt\n",
    "import numpy as np\n",
    "import seaborn as sns\n",
    "import pandas as pd\n",
    "from sklearn.model_selection import  train_test_split\n",
    "from sklearn.ensemble import RandomForestClassifier\n",
    "from sklearn.tree import DecisionTreeClassifier"
   ]
  },
  {
   "cell_type": "code",
   "execution_count": 82,
   "metadata": {},
   "outputs": [
    {
     "data": {
      "text/plain": [
       "Sample     0\n",
       "F1         0\n",
       "F2         0\n",
       "F3         0\n",
       "F4         0\n",
       "F5         0\n",
       "F6        16\n",
       "F7         0\n",
       "F8         0\n",
       "F9         0\n",
       "Class      0\n",
       "dtype: int64"
      ]
     },
     "execution_count": 82,
     "metadata": {},
     "output_type": "execute_result"
    }
   ],
   "source": [
    "# Reading the data\n",
    "cancer_data_df = pd.read_csv('breast-cancer-wisconsin.csv')\n",
    "\n",
    "# checking NaN/null value count\n",
    "cancer_data_df = cancer_data_df.replace(\"?\", np.NaN)\n",
    "cancer_data_df.isnull().sum()"
   ]
  },
  {
   "cell_type": "code",
   "execution_count": 83,
   "metadata": {},
   "outputs": [
    {
     "data": {
      "text/plain": [
       "Sample    0\n",
       "F1        0\n",
       "F2        0\n",
       "F3        0\n",
       "F4        0\n",
       "F5        0\n",
       "F6        0\n",
       "F7        0\n",
       "F8        0\n",
       "F9        0\n",
       "Class     0\n",
       "dtype: int64"
      ]
     },
     "execution_count": 83,
     "metadata": {},
     "output_type": "execute_result"
    }
   ],
   "source": [
    "# finding mean of the columns with null values\n",
    "cancer_data_df['F6'] = pd.to_numeric(cancer_data_df['F6'])\n",
    "F6_MEAN = cancer_data_df['F6'].mean()\n",
    "# Do label encoding for the missing values\n",
    "# replacing null with mean\n",
    "cancer_data_df['F6'] = cancer_data_df['F6'].fillna(F6_MEAN)\n",
    "cancer_data_df.isnull().sum()"
   ]
  },
  {
   "cell_type": "code",
   "execution_count": 84,
   "metadata": {},
   "outputs": [],
   "source": [
    "# Split the data into training and testing sets\n",
    "X = cancer_data_df.drop('Class', axis=1)\n",
    "y = cancer_data_df['Class']\n",
    "X_train, X_test, y_train, y_test = train_test_split(X, y, test_size=0.3, random_state=47)"
   ]
  },
  {
   "cell_type": "code",
   "execution_count": 85,
   "metadata": {},
   "outputs": [],
   "source": [
    "# Inatializing, training and testing the model\n",
    "model_c5 = DecisionTreeClassifier(criterion='entropy', max_depth=3,splitter='best',max_leaf_nodes=5)\n",
    "model_c5.fit(X_train,y_train)\n",
    "y_pred=model_c5.predict(X_test)"
   ]
  },
  {
   "cell_type": "code",
   "execution_count": 86,
   "metadata": {},
   "outputs": [
    {
     "name": "stdout",
     "output_type": "stream",
     "text": [
      "C5.0 Results\n",
      "\n",
      "Classification Report: \n",
      "\n",
      "              precision    recall  f1-score   support\n",
      "\n",
      "           2       0.96      0.94      0.95       132\n",
      "           4       0.90      0.94      0.92        78\n",
      "\n",
      "    accuracy                           0.94       210\n",
      "   macro avg       0.93      0.94      0.93       210\n",
      "weighted avg       0.94      0.94      0.94       210\n",
      "\n",
      "\n",
      "Confusion Matrix:\n",
      "[[124   8]\n",
      " [  5  73]]\n",
      "\n",
      "Accuracy: 0.9380952380952381\n"
     ]
    }
   ],
   "source": [
    "from sklearn.metrics import confusion_matrix, accuracy_score, classification_report\n",
    "print(\"C5.0 Results\\n\")\n",
    "print(\"Classification Report: \\n\")\n",
    "print(classification_report(y_test, y_pred), end=\"\\n\")\n",
    "\n",
    "print(f'\\nConfusion Matrix:\\n{confusion_matrix(y_test, y_pred)}')\n",
    "print(f'\\nAccuracy: {accuracy_score(y_test, y_pred)}')"
   ]
  },
  {
   "cell_type": "code",
   "execution_count": 87,
   "metadata": {},
   "outputs": [],
   "source": [
    "# Inatializing, training and testing the model\n",
    "model = RandomForestClassifier(n_estimators=100)\n",
    "model.fit(X_train,y_train)\n",
    "y_pred=model.predict(X_test)"
   ]
  },
  {
   "cell_type": "code",
   "execution_count": 88,
   "metadata": {},
   "outputs": [
    {
     "name": "stdout",
     "output_type": "stream",
     "text": [
      "Random Forest Results\n",
      "\n",
      "Classification Report: \n",
      "\n",
      "              precision    recall  f1-score   support\n",
      "\n",
      "           2       1.00      0.95      0.98       132\n",
      "           4       0.93      1.00      0.96        78\n",
      "\n",
      "    accuracy                           0.97       210\n",
      "   macro avg       0.96      0.98      0.97       210\n",
      "weighted avg       0.97      0.97      0.97       210\n",
      "\n",
      "\n",
      "Confusion Matrix:\n",
      "[[126   6]\n",
      " [  0  78]]\n",
      "\n",
      "Accuracy: 0.9714285714285714\n"
     ]
    }
   ],
   "source": [
    "from sklearn.metrics import confusion_matrix, accuracy_score, classification_report\n",
    "print(\"Random Forest Results\\n\")\n",
    "print(\"Classification Report: \\n\")\n",
    "print(classification_report(y_test, y_pred), end=\"\\n\")\n",
    "\n",
    "print(f'\\nConfusion Matrix:\\n{confusion_matrix(y_test, y_pred)}')\n",
    "print(f'\\nAccuracy: {accuracy_score(y_test, y_pred)}')"
   ]
  },
  {
   "cell_type": "code",
   "execution_count": 89,
   "metadata": {},
   "outputs": [
    {
     "name": "stdout",
     "output_type": "stream",
     "text": [
      "Important Features: \n"
     ]
    },
    {
     "data": {
      "text/plain": [
       "(0.0, 1.0)"
      ]
     },
     "execution_count": 89,
     "metadata": {},
     "output_type": "execute_result"
    },
    {
     "data": {
      "image/png": "[encoded data removed]",
      "text/plain": [
       "<Figure size 640x480 with 1 Axes>"
      ]
     },
     "metadata": {},
     "output_type": "display_data"
    }
   ],
   "source": [
    "print('Important Features: ')\n",
    "plt.plot(model.feature_importances_, 'o')\n",
    "plt.xticks(range(X.shape[1]), X.columns, rotation=90)\n",
    "plt.ylim(0, 1)"
   ]
  },
  {
   "cell_type": "code",
   "execution_count": null,
   "metadata": {},
   "outputs": [],
   "source": []
  }
 ],
 "metadata": {
  "kernelspec": {
   "display_name": "Python 3",
   "language": "python",
   "name": "python3"
  },
  "language_info": {
   "codemirror_mode": {
    "name": "ipython",
    "version": 3
   },
   "file_extension": ".py",
   "mimetype": "text/x-python",
   "name": "python",
   "nbconvert_exporter": "python",
   "pygments_lexer": "ipython3",
   "version": "3.11.3"
  }
 },
 "nbformat": 4,
 "nbformat_minor": 2
}
