{
 "cells": [
  {
   "cell_type": "code",
   "execution_count": 1,
   "id": "535c3a47",
   "metadata": {},
   "outputs": [],
   "source": [
    "# Import necessary libraries\n",
    "from sklearn import datasets\n",
    "from sklearn.model_selection import train_test_split\n",
    "from sklearn.preprocessing import StandardScaler, LabelEncoder\n",
    "from keras.models import Sequential\n",
    "from keras.layers import Dense\n",
    "from keras.utils import to_categorical"
   ]
  },
  {
   "cell_type": "code",
   "execution_count": 33,
   "id": "0d8ff00e",
   "metadata": {},
   "outputs": [
    {
     "name": "stdout",
     "output_type": "stream",
     "text": [
      "<class 'numpy.ndarray'>\n",
      "[0 0 0 0 0 0 0 0 0 0 0 0 0 0 0 0 0 0 0 0 0 0 0 0 0 0 0 0 0 0 0 0 0 0 0 0 0\n",
      " 0 0 0 0 0 0 0 0 0 0 0 0 0 1 1 1 1 1 1 1 1 1 1 1 1 1 1 1 1 1 1 1 1 1 1 1 1\n",
      " 1 1 1 1 1 1 1 1 1 1 1 1 1 1 1 1 1 1 1 1 1 1 1 1 1 1 2 2 2 2 2 2 2 2 2 2 2\n",
      " 2 2 2 2 2 2 2 2 2 2 2 2 2 2 2 2 2 2 2 2 2 2 2 2 2 2 2 2 2 2 2 2 2 2 2 2 2\n",
      " 2 2]\n"
     ]
    }
   ],
   "source": [
    "# Load the Iris dataset\n",
    "iris = datasets.load_iris()\n",
    "X = iris.data\n",
    "y = iris.target\n",
    "print(type(X))\n",
    "# Split the data into training and testing sets\n",
    "X_train, X_test, y_train, y_test = train_test_split(X, y, test_size=0.2, random_state=100)\n",
    "print(iris.target)\n",
    " "
   ]
  },
  {
   "cell_type": "code",
   "execution_count": 3,
   "id": "98e8586f",
   "metadata": {},
   "outputs": [],
   "source": [
    "scaler = StandardScaler()\n",
    "X_train = scaler.fit_transform(X_train)\n",
    "X_test = scaler.transform(X_test)\n",
    "\n",
    "# Convert labels to one-hot encoding\n",
    "encoder = LabelEncoder()\n",
    "y_train = to_categorical(encoder.fit_transform(y_train))\n",
    "y_test = to_categorical(encoder.transform(y_test))"
   ]
  },
  {
   "cell_type": "code",
   "execution_count": 4,
   "id": "bd3a14e5",
   "metadata": {},
   "outputs": [],
   "source": [
    "# Build the neural network model\n",
    "model = Sequential()\n",
    "model.add(Dense(8, input_dim=4, activation='softmax'))\n",
    "model.add(Dense(3, activation='softmax'))"
   ]
  },
  {
   "cell_type": "code",
   "execution_count": 5,
   "id": "6e4609d8",
   "metadata": {},
   "outputs": [
    {
     "name": "stdout",
     "output_type": "stream",
     "text": [
      "Epoch 1/50\n",
      "10/10 - 2s - loss: 1.1012 - accuracy: 0.2500 - val_loss: 1.1273 - val_accuracy: 0.1250 - 2s/epoch - 237ms/step\n",
      "Epoch 2/50\n",
      "10/10 - 0s - loss: 1.0940 - accuracy: 0.2812 - val_loss: 1.1194 - val_accuracy: 0.1667 - 107ms/epoch - 11ms/step\n",
      "Epoch 3/50\n",
      "10/10 - 0s - loss: 1.0870 - accuracy: 0.3125 - val_loss: 1.1114 - val_accuracy: 0.1667 - 106ms/epoch - 11ms/step\n",
      "Epoch 4/50\n",
      "10/10 - 0s - loss: 1.0803 - accuracy: 0.3333 - val_loss: 1.1041 - val_accuracy: 0.2083 - 124ms/epoch - 12ms/step\n",
      "Epoch 5/50\n",
      "10/10 - 0s - loss: 1.0735 - accuracy: 0.3750 - val_loss: 1.0960 - val_accuracy: 0.2083 - 148ms/epoch - 15ms/step\n",
      "Epoch 6/50\n",
      "10/10 - 0s - loss: 1.0667 - accuracy: 0.3958 - val_loss: 1.0889 - val_accuracy: 0.2500 - 97ms/epoch - 10ms/step\n",
      "Epoch 7/50\n",
      "10/10 - 0s - loss: 1.0602 - accuracy: 0.4375 - val_loss: 1.0825 - val_accuracy: 0.2917 - 176ms/epoch - 18ms/step\n",
      "Epoch 8/50\n",
      "10/10 - 0s - loss: 1.0531 - accuracy: 0.4375 - val_loss: 1.0748 - val_accuracy: 0.2917 - 115ms/epoch - 11ms/step\n",
      "Epoch 9/50\n",
      "10/10 - 0s - loss: 1.0462 - accuracy: 0.5208 - val_loss: 1.0678 - val_accuracy: 0.5000 - 135ms/epoch - 14ms/step\n",
      "Epoch 10/50\n",
      "10/10 - 0s - loss: 1.0393 - accuracy: 0.5938 - val_loss: 1.0612 - val_accuracy: 0.5000 - 103ms/epoch - 10ms/step\n",
      "Epoch 11/50\n",
      "10/10 - 0s - loss: 1.0322 - accuracy: 0.6667 - val_loss: 1.0539 - val_accuracy: 0.5417 - 171ms/epoch - 17ms/step\n",
      "Epoch 12/50\n",
      "10/10 - 0s - loss: 1.0251 - accuracy: 0.7396 - val_loss: 1.0463 - val_accuracy: 0.6667 - 183ms/epoch - 18ms/step\n",
      "Epoch 13/50\n",
      "10/10 - 0s - loss: 1.0180 - accuracy: 0.7812 - val_loss: 1.0390 - val_accuracy: 0.7083 - 109ms/epoch - 11ms/step\n",
      "Epoch 14/50\n",
      "10/10 - 0s - loss: 1.0106 - accuracy: 0.7917 - val_loss: 1.0316 - val_accuracy: 0.7083 - 171ms/epoch - 17ms/step\n",
      "Epoch 15/50\n",
      "10/10 - 0s - loss: 1.0031 - accuracy: 0.7917 - val_loss: 1.0240 - val_accuracy: 0.7917 - 159ms/epoch - 16ms/step\n",
      "Epoch 16/50\n",
      "10/10 - 0s - loss: 0.9957 - accuracy: 0.7708 - val_loss: 1.0162 - val_accuracy: 0.7917 - 128ms/epoch - 13ms/step\n",
      "Epoch 17/50\n",
      "10/10 - 0s - loss: 0.9883 - accuracy: 0.7917 - val_loss: 1.0096 - val_accuracy: 0.7917 - 111ms/epoch - 11ms/step\n",
      "Epoch 18/50\n",
      "10/10 - 0s - loss: 0.9806 - accuracy: 0.8542 - val_loss: 1.0025 - val_accuracy: 0.8333 - 152ms/epoch - 15ms/step\n",
      "Epoch 19/50\n",
      "10/10 - 0s - loss: 0.9726 - accuracy: 0.8542 - val_loss: 0.9947 - val_accuracy: 0.8333 - 126ms/epoch - 13ms/step\n",
      "Epoch 20/50\n",
      "10/10 - 0s - loss: 0.9650 - accuracy: 0.8333 - val_loss: 0.9870 - val_accuracy: 0.8333 - 136ms/epoch - 14ms/step\n",
      "Epoch 21/50\n",
      "10/10 - 0s - loss: 0.9570 - accuracy: 0.8333 - val_loss: 0.9789 - val_accuracy: 0.8333 - 127ms/epoch - 13ms/step\n",
      "Epoch 22/50\n",
      "10/10 - 0s - loss: 0.9491 - accuracy: 0.8229 - val_loss: 0.9715 - val_accuracy: 0.8333 - 114ms/epoch - 11ms/step\n",
      "Epoch 23/50\n",
      "10/10 - 0s - loss: 0.9411 - accuracy: 0.8229 - val_loss: 0.9643 - val_accuracy: 0.8333 - 98ms/epoch - 10ms/step\n",
      "Epoch 24/50\n",
      "10/10 - 0s - loss: 0.9329 - accuracy: 0.8438 - val_loss: 0.9567 - val_accuracy: 0.8333 - 149ms/epoch - 15ms/step\n",
      "Epoch 25/50\n",
      "10/10 - 0s - loss: 0.9246 - accuracy: 0.8438 - val_loss: 0.9493 - val_accuracy: 0.8333 - 156ms/epoch - 16ms/step\n",
      "Epoch 26/50\n",
      "10/10 - 0s - loss: 0.9163 - accuracy: 0.8438 - val_loss: 0.9417 - val_accuracy: 0.8750 - 186ms/epoch - 19ms/step\n",
      "Epoch 27/50\n",
      "10/10 - 0s - loss: 0.9083 - accuracy: 0.8646 - val_loss: 0.9344 - val_accuracy: 0.9167 - 125ms/epoch - 12ms/step\n",
      "Epoch 28/50\n",
      "10/10 - 0s - loss: 0.8999 - accuracy: 0.8646 - val_loss: 0.9270 - val_accuracy: 0.9167 - 133ms/epoch - 13ms/step\n",
      "Epoch 29/50\n",
      "10/10 - 0s - loss: 0.8915 - accuracy: 0.8646 - val_loss: 0.9192 - val_accuracy: 0.9167 - 133ms/epoch - 13ms/step\n",
      "Epoch 30/50\n",
      "10/10 - 0s - loss: 0.8837 - accuracy: 0.8646 - val_loss: 0.9117 - val_accuracy: 0.9167 - 169ms/epoch - 17ms/step\n",
      "Epoch 31/50\n",
      "10/10 - 0s - loss: 0.8751 - accuracy: 0.8750 - val_loss: 0.9039 - val_accuracy: 0.9167 - 145ms/epoch - 14ms/step\n",
      "Epoch 32/50\n",
      "10/10 - 0s - loss: 0.8669 - accuracy: 0.8438 - val_loss: 0.8957 - val_accuracy: 0.9167 - 144ms/epoch - 14ms/step\n",
      "Epoch 33/50\n",
      "10/10 - 0s - loss: 0.8588 - accuracy: 0.8333 - val_loss: 0.8884 - val_accuracy: 0.9167 - 168ms/epoch - 17ms/step\n",
      "Epoch 34/50\n",
      "10/10 - 0s - loss: 0.8507 - accuracy: 0.8646 - val_loss: 0.8812 - val_accuracy: 0.9167 - 125ms/epoch - 12ms/step\n",
      "Epoch 35/50\n",
      "10/10 - 0s - loss: 0.8425 - accuracy: 0.8438 - val_loss: 0.8736 - val_accuracy: 0.9167 - 119ms/epoch - 12ms/step\n",
      "Epoch 36/50\n",
      "10/10 - 0s - loss: 0.8346 - accuracy: 0.8333 - val_loss: 0.8661 - val_accuracy: 0.9167 - 134ms/epoch - 13ms/step\n",
      "Epoch 37/50\n",
      "10/10 - 0s - loss: 0.8268 - accuracy: 0.8333 - val_loss: 0.8588 - val_accuracy: 0.9167 - 137ms/epoch - 14ms/step\n",
      "Epoch 38/50\n",
      "10/10 - 0s - loss: 0.8191 - accuracy: 0.8333 - val_loss: 0.8519 - val_accuracy: 0.9167 - 140ms/epoch - 14ms/step\n",
      "Epoch 39/50\n",
      "10/10 - 0s - loss: 0.8114 - accuracy: 0.8750 - val_loss: 0.8449 - val_accuracy: 0.9167 - 159ms/epoch - 16ms/step\n",
      "Epoch 40/50\n",
      "10/10 - 0s - loss: 0.8038 - accuracy: 0.8646 - val_loss: 0.8377 - val_accuracy: 0.9167 - 178ms/epoch - 18ms/step\n",
      "Epoch 41/50\n",
      "10/10 - 0s - loss: 0.7965 - accuracy: 0.8750 - val_loss: 0.8305 - val_accuracy: 0.9167 - 155ms/epoch - 15ms/step\n",
      "Epoch 42/50\n",
      "10/10 - 0s - loss: 0.7893 - accuracy: 0.8542 - val_loss: 0.8235 - val_accuracy: 0.9167 - 149ms/epoch - 15ms/step\n",
      "Epoch 43/50\n",
      "10/10 - 0s - loss: 0.7820 - accuracy: 0.8646 - val_loss: 0.8168 - val_accuracy: 0.9167 - 130ms/epoch - 13ms/step\n",
      "Epoch 44/50\n",
      "10/10 - 0s - loss: 0.7752 - accuracy: 0.8750 - val_loss: 0.8105 - val_accuracy: 0.9583 - 133ms/epoch - 13ms/step\n",
      "Epoch 45/50\n",
      "10/10 - 0s - loss: 0.7680 - accuracy: 0.8750 - val_loss: 0.8039 - val_accuracy: 0.9583 - 117ms/epoch - 12ms/step\n",
      "Epoch 46/50\n",
      "10/10 - 0s - loss: 0.7612 - accuracy: 0.8750 - val_loss: 0.7975 - val_accuracy: 0.9583 - 144ms/epoch - 14ms/step\n",
      "Epoch 47/50\n",
      "10/10 - 0s - loss: 0.7546 - accuracy: 0.8750 - val_loss: 0.7914 - val_accuracy: 0.9583 - 134ms/epoch - 13ms/step\n",
      "Epoch 48/50\n",
      "10/10 - 0s - loss: 0.7480 - accuracy: 0.8854 - val_loss: 0.7853 - val_accuracy: 0.9583 - 165ms/epoch - 17ms/step\n",
      "Epoch 49/50\n",
      "10/10 - 0s - loss: 0.7419 - accuracy: 0.8750 - val_loss: 0.7800 - val_accuracy: 0.9167 - 157ms/epoch - 16ms/step\n",
      "Epoch 50/50\n",
      "10/10 - 0s - loss: 0.7353 - accuracy: 0.8750 - val_loss: 0.7736 - val_accuracy: 0.9167 - 121ms/epoch - 12ms/step\n"
     ]
    },
    {
     "data": {
      "text/plain": [
       "<keras.src.callbacks.History at 0x1dcb1309d20>"
      ]
     },
     "execution_count": 5,
     "metadata": {},
     "output_type": "execute_result"
    }
   ],
   "source": [
    "# Compile the model\n",
    "model.compile(loss='categorical_crossentropy', optimizer='adam', metrics=['accuracy'])\n",
    "\n",
    "# Train the model\n",
    "model.fit(X_train, y_train, epochs=50, batch_size=10, validation_split=0.2, verbose=2)"
   ]
  },
  {
   "cell_type": "code",
   "execution_count": 6,
   "id": "f7baa4ac",
   "metadata": {},
   "outputs": [
    {
     "name": "stdout",
     "output_type": "stream",
     "text": [
      "1/1 [==============================] - 0s 39ms/step - loss: 0.7033 - accuracy: 0.9000\n",
      "Test Loss: 0.7033169865608215, Test Accuracy: 0.8999999761581421\n"
     ]
    }
   ],
   "source": [
    "loss, accuracy = model.evaluate(X_test, y_test)\n",
    "print(f'Test Loss: {loss}, Test Accuracy: {accuracy}')"
   ]
  },
  {
   "cell_type": "code",
   "execution_count": 31,
   "id": "9c195cec",
   "metadata": {},
   "outputs": [
    {
     "name": "stdout",
     "output_type": "stream",
     "text": [
      "1/1 [==============================] - 0s 17ms/step\n",
      "<class 'numpy.ndarray'>\n",
      "[[0.16174516 0.3946891  0.4435658 ]\n",
      " [0.6366139  0.22574188 0.1376442 ]\n",
      " [0.18135811 0.36701643 0.45162547]\n",
      " [0.6474505  0.21008919 0.14246039]\n",
      " [0.17366317 0.4101536  0.4161832 ]\n",
      " [0.18543181 0.3557482  0.4588199 ]\n",
      " [0.6520242  0.21370408 0.13427164]\n",
      " [0.6054303  0.24499562 0.14957409]\n",
      " [0.18843329 0.37850025 0.43306655]\n",
      " [0.604719   0.24565795 0.14962308]\n",
      " [0.63807863 0.22433059 0.1375908 ]\n",
      " [0.17072514 0.38286972 0.4464052 ]\n",
      " [0.6262935  0.22998498 0.14372157]\n",
      " [0.63028824 0.22737935 0.14233251]\n",
      " [0.16496076 0.38618112 0.4488581 ]\n",
      " [0.22951518 0.39503345 0.3754514 ]\n",
      " [0.1864844  0.48348886 0.33002678]\n",
      " [0.19834019 0.3806322  0.4210275 ]\n",
      " [0.19181304 0.36162028 0.44656664]\n",
      " [0.17581452 0.3773917  0.44679374]\n",
      " [0.20375831 0.3491194  0.4471223 ]\n",
      " [0.6149473  0.23349613 0.1515565 ]\n",
      " [0.16267867 0.42194495 0.4153764 ]\n",
      " [0.62739605 0.23199067 0.14061326]\n",
      " [0.21479762 0.4382937  0.34690878]\n",
      " [0.19197251 0.39165935 0.4163682 ]\n",
      " [0.2234614  0.38467768 0.39186087]\n",
      " [0.6196492  0.23034684 0.15000401]\n",
      " [0.22009417 0.40289938 0.37700638]\n",
      " [0.1758108  0.36611304 0.45807618]]\n",
      "[2 0 2 0 2 2 0 0 2 0 0 2 0 0 2 1 1 2 2 2 2 0 1 0 1 2 2 0 1 2]\n",
      "['class_2', 'class_0', 'class_2', 'class_0', 'class_2', 'class_2', 'class_0', 'class_0', 'class_2', 'class_0', 'class_0', 'class_2', 'class_0', 'class_0', 'class_2', 'class_1', 'class_1', 'class_2', 'class_2', 'class_2', 'class_2', 'class_0', 'class_1', 'class_0', 'class_1', 'class_2', 'class_2', 'class_0', 'class_1', 'class_2']\n"
     ]
    }
   ],
   "source": [
    "import numpy as np\n",
    "predict=model.predict(X_test)\n",
    "print(type(predict))\n",
    "print(predict)\n",
    "class_label = {0: 'class_0', 1: 'class_1', 2: 'class_2'} \n",
    "predicted_class = np.argmax(predict,axis=1)\n",
    "print(predicted_class)\n",
    "\n",
    "Cluster_label = [class_label[num] for num in predicted_class]\n",
    "print(Cluster_label)\n",
    "\n"
   ]
  },
  {
   "cell_type": "code",
   "execution_count": 37,
   "id": "4ce98e22",
   "metadata": {},
   "outputs": [
    {
     "name": "stdout",
     "output_type": "stream",
     "text": [
      "Test_cat    0  1   2\n",
      "ANN_class           \n",
      "class_0    11  0   0\n",
      "class_1     0  4   1\n",
      "class_2     0  2  12\n"
     ]
    },
    {
     "data": {
      "text/html": [
       "<div>\n",
       "<style scoped>\n",
       "    .dataframe tbody tr th:only-of-type {\n",
       "        vertical-align: middle;\n",
       "    }\n",
       "\n",
       "    .dataframe tbody tr th {\n",
       "        vertical-align: top;\n",
       "    }\n",
       "\n",
       "    .dataframe thead th {\n",
       "        text-align: right;\n",
       "    }\n",
       "</style>\n",
       "<table border=\"1\" class=\"dataframe\">\n",
       "  <thead>\n",
       "    <tr style=\"text-align: right;\">\n",
       "      <th></th>\n",
       "      <th>ANN_class</th>\n",
       "      <th>Test_cat</th>\n",
       "    </tr>\n",
       "  </thead>\n",
       "  <tbody>\n",
       "    <tr>\n",
       "      <th>0</th>\n",
       "      <td>class_2</td>\n",
       "      <td>2</td>\n",
       "    </tr>\n",
       "    <tr>\n",
       "      <th>1</th>\n",
       "      <td>class_0</td>\n",
       "      <td>0</td>\n",
       "    </tr>\n",
       "    <tr>\n",
       "      <th>2</th>\n",
       "      <td>class_2</td>\n",
       "      <td>2</td>\n",
       "    </tr>\n",
       "    <tr>\n",
       "      <th>3</th>\n",
       "      <td>class_0</td>\n",
       "      <td>0</td>\n",
       "    </tr>\n",
       "    <tr>\n",
       "      <th>4</th>\n",
       "      <td>class_2</td>\n",
       "      <td>2</td>\n",
       "    </tr>\n",
       "  </tbody>\n",
       "</table>\n",
       "</div>"
      ],
      "text/plain": [
       "  ANN_class  Test_cat\n",
       "0   class_2         2\n",
       "1   class_0         0\n",
       "2   class_2         2\n",
       "3   class_0         0\n",
       "4   class_2         2"
      ]
     },
     "execution_count": 37,
     "metadata": {},
     "output_type": "execute_result"
    }
   ],
   "source": [
    "import pandas as pd\n",
    "df_class_results = pd.DataFrame({'ANN_class': Cluster_label, 'Test_cat': y_test})\n",
    "\n",
    "cross_tab = pd.crosstab(df_class_results['ANN_class'], df_class_results['Test_cat'])\n",
    "\n",
    "# Print the cross-tab\n",
    "print(cross_tab)\n",
    "df_class_results.head()"
   ]
  }
 ],
 "metadata": {
  "kernelspec": {
   "display_name": "Python 3 (ipykernel)",
   "language": "python",
   "name": "python3"
  },
  "language_info": {
   "codemirror_mode": {
    "name": "ipython",
    "version": 3
   },
   "file_extension": ".py",
   "mimetype": "text/x-python",
   "name": "python",
   "nbconvert_exporter": "python",
   "pygments_lexer": "ipython3",
   "version": "3.10.9"
  }
 },
 "nbformat": 4,
 "nbformat_minor": 5
}
