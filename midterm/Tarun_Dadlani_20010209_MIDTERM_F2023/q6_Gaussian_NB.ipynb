{
 "cells": [
  {
   "cell_type": "markdown",
   "metadata": {},
   "source": [
    "### NAME: Tarun Dadlani\n",
    "### CWID: 20010209\n",
    "### Class: CS513B\n",
    "### Midterm Q6"
   ]
  },
  {
   "cell_type": "code",
   "execution_count": 4,
   "metadata": {},
   "outputs": [],
   "source": [
    "import pandas as pd\n",
    "import numpy as np\n",
    "from sklearn.model_selection import train_test_split\n",
    "from sklearn.preprocessing import LabelEncoder\n",
    "from sklearn.preprocessing import StandardScaler\n",
    "from sklearn.naive_bayes import GaussianNB\n",
    "from sklearn.metrics import confusion_matrix, accuracy_score, classification_report"
   ]
  },
  {
   "cell_type": "code",
   "execution_count": 5,
   "metadata": {},
   "outputs": [
    {
     "name": "stdout",
     "output_type": "stream",
     "text": [
      "<class 'pandas.core.frame.DataFrame'>\n",
      "RangeIndex: 4403 entries, 0 to 4402\n",
      "Data columns (total 6 columns):\n",
      " #   Column     Non-Null Count  Dtype   \n",
      "---  ------     --------------  -----   \n",
      " 0   Somker     4403 non-null   object  \n",
      " 1   Gender     4403 non-null   object  \n",
      " 2   Age        4403 non-null   int64   \n",
      " 3   Height     4403 non-null   float64 \n",
      " 4   Weight     4403 non-null   int64   \n",
      " 5   BP_Status  4403 non-null   category\n",
      "dtypes: category(1), float64(1), int64(2), object(2)\n",
      "memory usage: 176.5+ KB\n"
     ]
    }
   ],
   "source": [
    "dataset = pd.read_csv('BP.csv')\n",
    "dataset = dataset.replace(\"?\", np.NaN)  # replace \"?\" with NaN\n",
    "dataset[\"BP_Status\"] = dataset[\"BP_Status\"].astype('category')\n",
    "dataset.info()"
   ]
  },
  {
   "cell_type": "code",
   "execution_count": 6,
   "metadata": {},
   "outputs": [],
   "source": [
    "# Split the data into training and testing sets\n",
    "X = dataset.drop('BP_Status', axis=1)\n",
    "y = dataset['BP_Status']"
   ]
  },
  {
   "cell_type": "code",
   "execution_count": 7,
   "metadata": {},
   "outputs": [],
   "source": [
    "# converting somker and gender to encode to numeric values\n",
    "from sklearn.compose import ColumnTransformer\n",
    "from sklearn.preprocessing import OneHotEncoder\n",
    "ct = ColumnTransformer(transformers=[('encoder', OneHotEncoder(), ['Somker', 'Gender'])], remainder='passthrough')\n",
    "X = np.array(ct.fit_transform(X))"
   ]
  },
  {
   "cell_type": "code",
   "execution_count": 8,
   "metadata": {},
   "outputs": [],
   "source": [
    "\n",
    "le = LabelEncoder()\n",
    "y = le.fit_transform(y)"
   ]
  },
  {
   "cell_type": "code",
   "execution_count": 9,
   "metadata": {},
   "outputs": [],
   "source": [
    "X_train, X_test, y_train, y_test = train_test_split(X, y, test_size=0.3, random_state=47)"
   ]
  },
  {
   "cell_type": "code",
   "execution_count": 10,
   "metadata": {},
   "outputs": [],
   "source": [
    "# Standardizing data\n",
    "\n",
    "sc = StandardScaler()\n",
    "X_train = sc.fit_transform(X_train)\n",
    "X_test = sc.transform(X_test)"
   ]
  },
  {
   "cell_type": "code",
   "execution_count": 11,
   "metadata": {},
   "outputs": [],
   "source": [
    "gnb = GaussianNB()\n",
    "gnb.fit(X_train, y_train)\n",
    "y_pred = gnb.predict(X_test)"
   ]
  },
  {
   "cell_type": "code",
   "execution_count": 12,
   "metadata": {},
   "outputs": [
    {
     "name": "stdout",
     "output_type": "stream",
     "text": [
      "Classification Report: \n",
      "\n",
      "              precision    recall  f1-score   support\n",
      "\n",
      "           0       0.61      0.64      0.63       662\n",
      "           1       0.62      0.59      0.61       659\n",
      "\n",
      "    accuracy                           0.62      1321\n",
      "   macro avg       0.62      0.62      0.62      1321\n",
      "weighted avg       0.62      0.62      0.62      1321\n",
      "\n",
      "Training set score: 0.6236\n",
      "\n",
      "Test set score: 0.6185\n",
      "\n",
      "Confusion Matrix:\n",
      "[[426 236]\n",
      " [268 391]]\n",
      "\n",
      "Accuracy: 0.6184708554125662\n"
     ]
    }
   ],
   "source": [
    "print(\"Classification Report: \\n\")\n",
    "print(classification_report(y_test, y_pred), end=\"\\n\")\n",
    "print('Training set score: {:.4f}'.format(gnb.score(X_train, y_train)))\n",
    "\n",
    "print('\\nTest set score: {:.4f}'.format(gnb.score(X_test, y_test)))\n",
    "\n",
    "print(f'\\nConfusion Matrix:\\n{confusion_matrix(y_test, y_pred)}')\n",
    "print(f'\\nAccuracy: {accuracy_score(y_test, y_pred)}')"
   ]
  }
 ],
 "metadata": {
  "kernelspec": {
   "display_name": "Python 3",
   "language": "python",
   "name": "python3"
  },
  "language_info": {
   "codemirror_mode": {
    "name": "ipython",
    "version": 3
   },
   "file_extension": ".py",
   "mimetype": "text/x-python",
   "name": "python",
   "nbconvert_exporter": "python",
   "pygments_lexer": "ipython3",
   "version": "3.11.3"
  }
 },
 "nbformat": 4,
 "nbformat_minor": 2
}
