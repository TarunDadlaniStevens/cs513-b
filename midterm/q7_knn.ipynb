{
 "cells": [
  {
   "cell_type": "markdown",
   "metadata": {},
   "source": [
    "### NAME: Tarun Dadlani\n",
    "### CWID: 20010209\n",
    "### Class: CS513B\n",
    "### Midterm Q7"
   ]
  },
  {
   "cell_type": "code",
   "execution_count": 53,
   "metadata": {},
   "outputs": [],
   "source": [
    "import pandas as pd\n",
    "import numpy as np\n",
    "import seaborn as sns\n",
    "import matplotlib.pyplot as plt\n",
    "from sklearn.model_selection import train_test_split\n",
    "from sklearn.preprocessing import LabelEncoder\n",
    "from sklearn.preprocessing import StandardScaler\n",
    "from sklearn.naive_bayes import GaussianNB\n",
    "from sklearn.metrics import confusion_matrix, accuracy_score, classification_report\n",
    "from sklearn.neighbors import KNeighborsClassifier\n",
    "from sklearn.metrics import accuracy_score"
   ]
  },
  {
   "cell_type": "code",
   "execution_count": 54,
   "metadata": {},
   "outputs": [
    {
     "name": "stdout",
     "output_type": "stream",
     "text": [
      "<class 'pandas.core.frame.DataFrame'>\n",
      "RangeIndex: 4403 entries, 0 to 4402\n",
      "Data columns (total 6 columns):\n",
      " #   Column     Non-Null Count  Dtype   \n",
      "---  ------     --------------  -----   \n",
      " 0   Somker     4403 non-null   object  \n",
      " 1   Gender     4403 non-null   object  \n",
      " 2   Age        4403 non-null   int64   \n",
      " 3   Height     4403 non-null   float64 \n",
      " 4   Weight     4403 non-null   int64   \n",
      " 5   BP_Status  4403 non-null   category\n",
      "dtypes: category(1), float64(1), int64(2), object(2)\n",
      "memory usage: 176.5+ KB\n"
     ]
    }
   ],
   "source": [
    "acc_scores = []\n",
    "dataset = pd.read_csv('BP.csv')\n",
    "dataset = dataset.replace(\"?\", np.NaN)  # replace \"?\" with NaN\n",
    "dataset[\"BP_Status\"] = dataset[\"BP_Status\"].astype('category')\n",
    "dataset.info()"
   ]
  },
  {
   "cell_type": "code",
   "execution_count": 55,
   "metadata": {},
   "outputs": [],
   "source": [
    "# Split the data into training and testing sets\n",
    "X = dataset.drop('BP_Status', axis=1)\n",
    "y = dataset['BP_Status']"
   ]
  },
  {
   "cell_type": "code",
   "execution_count": 56,
   "metadata": {},
   "outputs": [],
   "source": [
    "# converting somker and gender to encode to numeric values\n",
    "from sklearn.compose import ColumnTransformer\n",
    "from sklearn.preprocessing import OneHotEncoder\n",
    "ct = ColumnTransformer(transformers=[('encoder', OneHotEncoder(), ['Somker', 'Gender'])], remainder='passthrough')\n",
    "X = np.array(ct.fit_transform(X))"
   ]
  },
  {
   "cell_type": "code",
   "execution_count": 57,
   "metadata": {},
   "outputs": [],
   "source": [
    "le = LabelEncoder()\n",
    "y = le.fit_transform(y)"
   ]
  },
  {
   "cell_type": "code",
   "execution_count": 58,
   "metadata": {},
   "outputs": [],
   "source": [
    "X_train, X_test, y_train, y_test = train_test_split(X, y, test_size=0.3, random_state=47)"
   ]
  },
  {
   "cell_type": "code",
   "execution_count": 59,
   "metadata": {},
   "outputs": [],
   "source": [
    "# Standardizing data\n",
    "sc = StandardScaler()\n",
    "X_train = sc.fit_transform(X_train)\n",
    "X_test = sc.transform(X_test)"
   ]
  },
  {
   "cell_type": "code",
   "execution_count": 60,
   "metadata": {},
   "outputs": [
    {
     "name": "stdout",
     "output_type": "stream",
     "text": [
      "For n_neighbors = 2\n",
      "Classification Report:\n",
      "              precision    recall  f1-score   support\n",
      "\n",
      "           0       0.54      0.79      0.64       662\n",
      "           1       0.60      0.32      0.42       659\n",
      "\n",
      "    accuracy                           0.56      1321\n",
      "   macro avg       0.57      0.56      0.53      1321\n",
      "weighted avg       0.57      0.56      0.53      1321\n",
      "\n",
      "\n",
      "Confusion Matrix:\n",
      "[[521 141]\n",
      " [445 214]]\n",
      "Accuracy: 0.5563966691900075\n",
      "\n",
      "For n_neighbors = 3\n",
      "Classification Report:\n",
      "              precision    recall  f1-score   support\n",
      "\n",
      "           0       0.58      0.58      0.58       662\n",
      "           1       0.58      0.58      0.58       659\n",
      "\n",
      "    accuracy                           0.58      1321\n",
      "   macro avg       0.58      0.58      0.58      1321\n",
      "weighted avg       0.58      0.58      0.58      1321\n",
      "\n",
      "\n",
      "Confusion Matrix:\n",
      "[[381 281]\n",
      " [278 381]]\n",
      "Accuracy: 0.5768357305071915\n",
      "\n",
      "For n_neighbors = 4\n",
      "Classification Report:\n",
      "              precision    recall  f1-score   support\n",
      "\n",
      "           0       0.55      0.71      0.62       662\n",
      "           1       0.59      0.42      0.49       659\n",
      "\n",
      "    accuracy                           0.57      1321\n",
      "   macro avg       0.57      0.57      0.56      1321\n",
      "weighted avg       0.57      0.57      0.56      1321\n",
      "\n",
      "\n",
      "Confusion Matrix:\n",
      "[[471 191]\n",
      " [383 276]]\n",
      "Accuracy: 0.5654806964420893\n",
      "\n",
      "For n_neighbors = 5\n",
      "Classification Report:\n",
      "              precision    recall  f1-score   support\n",
      "\n",
      "           0       0.59      0.60      0.59       662\n",
      "           1       0.59      0.57      0.58       659\n",
      "\n",
      "    accuracy                           0.59      1321\n",
      "   macro avg       0.59      0.59      0.59      1321\n",
      "weighted avg       0.59      0.59      0.59      1321\n",
      "\n",
      "\n",
      "Confusion Matrix:\n",
      "[[398 264]\n",
      " [282 377]]\n",
      "Accuracy: 0.5866767600302801\n",
      "\n",
      "For n_neighbors = 6\n",
      "Classification Report:\n",
      "              precision    recall  f1-score   support\n",
      "\n",
      "           0       0.56      0.69      0.62       662\n",
      "           1       0.59      0.46      0.52       659\n",
      "\n",
      "    accuracy                           0.57      1321\n",
      "   macro avg       0.58      0.57      0.57      1321\n",
      "weighted avg       0.58      0.57      0.57      1321\n",
      "\n",
      "\n",
      "Confusion Matrix:\n",
      "[[455 207]\n",
      " [357 302]]\n",
      "Accuracy: 0.5730507191521574\n",
      "\n",
      "For n_neighbors = 7\n",
      "Classification Report:\n",
      "              precision    recall  f1-score   support\n",
      "\n",
      "           0       0.58      0.59      0.58       662\n",
      "           1       0.58      0.57      0.57       659\n",
      "\n",
      "    accuracy                           0.58      1321\n",
      "   macro avg       0.58      0.58      0.58      1321\n",
      "weighted avg       0.58      0.58      0.58      1321\n",
      "\n",
      "\n",
      "Confusion Matrix:\n",
      "[[391 271]\n",
      " [286 373]]\n",
      "Accuracy: 0.5783497350492052\n",
      "\n",
      "For n_neighbors = 8\n",
      "Classification Report:\n",
      "              precision    recall  f1-score   support\n",
      "\n",
      "           0       0.57      0.70      0.63       662\n",
      "           1       0.61      0.47      0.53       659\n",
      "\n",
      "    accuracy                           0.58      1321\n",
      "   macro avg       0.59      0.58      0.58      1321\n",
      "weighted avg       0.59      0.58      0.58      1321\n",
      "\n",
      "\n",
      "Confusion Matrix:\n",
      "[[464 198]\n",
      " [352 307]]\n",
      "Accuracy: 0.5836487509462528\n",
      "\n",
      "For n_neighbors = 9\n",
      "Classification Report:\n",
      "              precision    recall  f1-score   support\n",
      "\n",
      "           0       0.60      0.62      0.61       662\n",
      "           1       0.61      0.58      0.59       659\n",
      "\n",
      "    accuracy                           0.60      1321\n",
      "   macro avg       0.60      0.60      0.60      1321\n",
      "weighted avg       0.60      0.60      0.60      1321\n",
      "\n",
      "\n",
      "Confusion Matrix:\n",
      "[[413 249]\n",
      " [275 384]]\n",
      "Accuracy: 0.6033308099924299\n",
      "\n",
      "For n_neighbors = 10\n",
      "Classification Report:\n",
      "              precision    recall  f1-score   support\n",
      "\n",
      "           0       0.58      0.69      0.63       662\n",
      "           1       0.61      0.49      0.54       659\n",
      "\n",
      "    accuracy                           0.59      1321\n",
      "   macro avg       0.60      0.59      0.59      1321\n",
      "weighted avg       0.60      0.59      0.59      1321\n",
      "\n",
      "\n",
      "Confusion Matrix:\n",
      "[[460 202]\n",
      " [338 321]]\n",
      "Accuracy: 0.5912187736563209\n",
      "\n"
     ]
    }
   ],
   "source": [
    "for i in range(2,11):\n",
    "    knn_5 = KNeighborsClassifier(n_neighbors=i)\n",
    "    knn_5.fit(X_train, y_train)\n",
    "    y_pred = knn_5.predict(X_test)\n",
    "    print(f\"For n_neighbors = {i}\")\n",
    "    print(\"Classification Report:\")\n",
    "    print(classification_report(y_test, y_pred))\n",
    "    print(f'\\nConfusion Matrix:\\n{confusion_matrix(y_test, y_pred)}')\n",
    "    print(f'Accuracy: {accuracy_score(y_test, y_pred)}\\n')\n",
    "    acc_scores.append(accuracy_score(y_test, y_pred))"
   ]
  },
  {
   "cell_type": "code",
   "execution_count": 62,
   "metadata": {},
   "outputs": [
    {
     "data": {
      "text/plain": [
       "Text(0, 0.5, 'Accuracy Score')"
      ]
     },
     "execution_count": 62,
     "metadata": {},
     "output_type": "execute_result"
    },
    {
     "data": {
      "image/png": "[encoded data removed]",
      "text/plain": [
       "<Figure size 640x480 with 1 Axes>"
      ]
     },
     "metadata": {},
     "output_type": "display_data"
    }
   ],
   "source": [
    "n_values=[i for i in range(2,11)]\n",
    "sns.lineplot(x = n_values, y = acc_scores, marker = 'o')\n",
    "plt.xlabel(\"n_neighbor Values\")\n",
    "plt.ylabel(\"Accuracy Score\")"
   ]
  }
 ],
 "metadata": {
  "kernelspec": {
   "display_name": "Python 3",
   "language": "python",
   "name": "python3"
  },
  "language_info": {
   "codemirror_mode": {
    "name": "ipython",
    "version": 3
   },
   "file_extension": ".py",
   "mimetype": "text/x-python",
   "name": "python",
   "nbconvert_exporter": "python",
   "pygments_lexer": "ipython3",
   "version": "3.11.3"
  }
 },
 "nbformat": 4,
 "nbformat_minor": 2
}
